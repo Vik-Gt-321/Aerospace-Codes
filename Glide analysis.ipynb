{
  "nbformat": 4,
  "nbformat_minor": 0,
  "metadata": {
    "colab": {
      "provenance": [],
      "toc_visible": true,
      "authorship_tag": "ABX9TyN2IbqHUkRPz23n2dR7fhWe",
      "include_colab_link": true
    },
    "kernelspec": {
      "name": "python3",
      "display_name": "Python 3"
    },
    "language_info": {
      "name": "python"
    }
  },
  "cells": [
    {
      "cell_type": "markdown",
      "metadata": {
        "id": "view-in-github",
        "colab_type": "text"
      },
      "source": [
        "<a href=\"https://colab.research.google.com/github/Vik-Gt-321/Aerospace-Codes/blob/main/Glide%20analysis.ipynb\" target=\"_parent\"><img src=\"https://colab.research.google.com/assets/colab-badge.svg\" alt=\"Open In Colab\"/></a>"
      ]
    },
    {
      "cell_type": "code",
      "execution_count": null,
      "metadata": {
        "id": "jPrQI1o3lpwl"
      },
      "outputs": [],
      "source": [
        "from math import pi\n",
        "from numpy import arange\n",
        "import matplotlib.pyplot as plt\n",
        "import math"
      ]
    },
    {
      "cell_type": "code",
      "execution_count": null,
      "metadata": {
        "id": "sHyTcG7z-XN9"
      },
      "outputs": [],
      "source": [
        "import numpy as np\n",
        "import random"
      ]
    },
    {
      "cell_type": "code",
      "source": [
        "import matplotlib.pyplot as plt"
      ],
      "metadata": {
        "id": "oDF7jIG4-dUJ"
      },
      "execution_count": null,
      "outputs": []
    },
    {
      "cell_type": "code",
      "source": [
        "b = 10.47\n",
        "AR = 8.8\n",
        "c = 1.211\n",
        "S = 12.47\n",
        "m = 750\n",
        "Ixx = 873\n",
        "Iyy = 907\n",
        "Izz = 1680\n",
        "Ixz = 1144\n",
        "T = 1136"
      ],
      "metadata": {
        "id": "xMPCNBYolqa4"
      },
      "execution_count": null,
      "outputs": []
    },
    {
      "cell_type": "code",
      "source": [
        "H = 3000\n",
        "v = 50"
      ],
      "metadata": {
        "id": "jFtXJfbKmSQG"
      },
      "execution_count": null,
      "outputs": []
    },
    {
      "cell_type": "code",
      "source": [
        "Cd0 = 0.036\n",
        "Cda = 0.041\n",
        "e = 0.8\n",
        "Clm = 1.5\n",
        "Cl0 = 0.365\n",
        "Cla = 4.2"
      ],
      "metadata": {
        "id": "ixWCb3QbmYou"
      },
      "execution_count": null,
      "outputs": []
    },
    {
      "cell_type": "code",
      "source": [
        "k = 1/(pi*e*AR)\n",
        "k"
      ],
      "metadata": {
        "id": "ZUrB69ZBmsQQ",
        "colab": {
          "base_uri": "https://localhost:8080/"
        },
        "outputId": "b55807b8-3cc5-4286-f79c-ac070d01e70a"
      },
      "execution_count": null,
      "outputs": [
        {
          "output_type": "execute_result",
          "data": {
            "text/plain": [
              "0.04521447246928845"
            ]
          },
          "metadata": {},
          "execution_count": 374
        }
      ]
    },
    {
      "cell_type": "code",
      "source": [
        "def coeff_drag(Cl):\n",
        "  return Cd0 + k*Cl*Cl"
      ],
      "metadata": {
        "id": "TabcvcyYpz61"
      },
      "execution_count": null,
      "outputs": []
    },
    {
      "cell_type": "code",
      "source": [
        "def coeff_lift(a):\n",
        "  return Cl0 + a*Cla"
      ],
      "metadata": {
        "id": "-jHW3nVHpqVG"
      },
      "execution_count": null,
      "outputs": []
    },
    {
      "cell_type": "code",
      "source": [
        "def E(Cl):\n",
        "  return Cl/coeff_drag(Cl)"
      ],
      "metadata": {
        "id": "JF5YJwmxm7Zm"
      },
      "execution_count": null,
      "outputs": []
    },
    {
      "cell_type": "code",
      "source": [
        "cl = np.linspace(0, 1.55, 50)"
      ],
      "metadata": {
        "id": "D4AzGpwFRg6m"
      },
      "execution_count": null,
      "outputs": []
    },
    {
      "cell_type": "code",
      "source": [],
      "metadata": {
        "id": "is5jnlGSRcaR"
      },
      "execution_count": null,
      "outputs": []
    },
    {
      "cell_type": "code",
      "source": [
        "def density(h):\n",
        "  return 1.225*math.exp(-h/9296)"
      ],
      "metadata": {
        "id": "aUfaE2lroUqR"
      },
      "execution_count": null,
      "outputs": []
    },
    {
      "cell_type": "code",
      "source": [
        "1/(2*math.sqrt(k*Cd0))"
      ],
      "metadata": {
        "id": "IbitvKRKoO4j",
        "colab": {
          "base_uri": "https://localhost:8080/"
        },
        "outputId": "403a5880-05e6-42a5-b4fe-4942965f8264"
      },
      "execution_count": null,
      "outputs": [
        {
          "output_type": "execute_result",
          "data": {
            "text/plain": [
              "12.393101878686425"
            ]
          },
          "metadata": {},
          "execution_count": 380
        }
      ]
    },
    {
      "cell_type": "markdown",
      "source": [
        "# Minimum Glide Angle"
      ],
      "metadata": {
        "id": "Cto9vt38qUhx"
      }
    },
    {
      "cell_type": "code",
      "source": [
        "from scipy.integrate import odeint\n",
        "import numpy as np"
      ],
      "metadata": {
        "id": "tI711MOwh3f9"
      },
      "execution_count": null,
      "outputs": []
    },
    {
      "cell_type": "code",
      "source": [
        "def deg2rad(deg):\n",
        "  return deg*math.pi/180"
      ],
      "metadata": {
        "id": "RDjS9E2QqzCj"
      },
      "execution_count": null,
      "outputs": []
    },
    {
      "cell_type": "code",
      "source": [
        "def rad2deg(rad):\n",
        "  return 180*rad/math.pi"
      ],
      "metadata": {
        "id": "6Y1Hck7Fq7u0"
      },
      "execution_count": null,
      "outputs": []
    },
    {
      "cell_type": "code",
      "source": [
        "Cl_star = np.sqrt(0.036/k)\n",
        "#np.sqrt(Cd0/k)\n",
        "E_max = Cl_star/(2*0.036)\n",
        "gamma0= -3 #math.atan(-1/E_max)\n",
        "gamma0 = deg2rad(gamma0)"
      ],
      "metadata": {
        "id": "DMPC2OEHsTZq"
      },
      "execution_count": null,
      "outputs": []
    },
    {
      "cell_type": "code",
      "source": [
        "math.sqrt(3)*Cl_star"
      ],
      "metadata": {
        "colab": {
          "base_uri": "https://localhost:8080/"
        },
        "id": "yKkSNMSMe78B",
        "outputId": "87c1a423-0581-4eea-df7f-508170365d74"
      },
      "execution_count": null,
      "outputs": [
        {
          "output_type": "execute_result",
          "data": {
            "text/plain": [
              "1.5455147124428779"
            ]
          },
          "metadata": {},
          "execution_count": 385
        }
      ]
    },
    {
      "cell_type": "code",
      "source": [
        "#initial conditions\n",
        "CL = Cl_star\n",
        "v0 = 50\n",
        "h0 = 3000\n",
        "alpha = (- Cl0 + CL)/ Cla\n",
        "print(rad2deg(alpha))\n",
        "print(Cl_star)"
      ],
      "metadata": {
        "id": "ypH-kM5crBck",
        "colab": {
          "base_uri": "https://localhost:8080/"
        },
        "outputId": "f15845bb-09dd-4904-f436-4770ca3c5992"
      },
      "execution_count": null,
      "outputs": [
        {
          "output_type": "stream",
          "name": "stdout",
          "text": [
            "7.193394198542996\n",
            "0.8923033352654226\n"
          ]
        }
      ]
    },
    {
      "cell_type": "code",
      "source": [
        "def fun(y, t):\n",
        "\n",
        "  gamma, v, h, x= y\n",
        "  # print(rad2deg(gamma))\n",
        "  T = 0\n",
        "  g = 9.8\n",
        "  W = m*g\n",
        "\n",
        "  h = np.float128(h)\n",
        "  rho = 1.225*np.exp(-h/9296)\n",
        "  # print(rho)\n",
        "\n",
        "\n",
        "\n",
        "  CD = coeff_drag(CL)\n",
        "  # CL = coeff_lift(alpha)\n",
        "  q = 0.5*rho*v*v*S\n",
        "  D = (q*CD)\n",
        "  L = (q*CL)\n",
        "\n",
        "  v_dash = ( T*np.cos(alpha) - D - W*np.sin(gamma) )/m\n",
        "\n",
        "  gamma_dash = ( T*np.sin(alpha) + L - W*np.cos(gamma)) / (m*v)\n",
        "\n",
        "  x_dash = v*np.cos(gamma)\n",
        "\n",
        "  h_dash = v*np.sin(gamma)\n",
        "\n",
        "  return [gamma_dash, v_dash, h_dash, x_dash]"
      ],
      "metadata": {
        "id": "zaYuqcRnfIHu"
      },
      "execution_count": null,
      "outputs": []
    },
    {
      "cell_type": "code",
      "source": [
        "initial = [gamma0, 50, 3000, 0]"
      ],
      "metadata": {
        "id": "S8j9HvM5hdyn"
      },
      "execution_count": null,
      "outputs": []
    },
    {
      "cell_type": "code",
      "source": [
        "fun(initial, 0)"
      ],
      "metadata": {
        "id": "Y_yVunk3u8zU",
        "colab": {
          "base_uri": "https://localhost:8080/"
        },
        "outputId": "7d4c3b42-cf12-4a18-c065-d642faf4e24d"
      },
      "execution_count": null,
      "outputs": [
        {
          "output_type": "execute_result",
          "data": {
            "text/plain": [
              "[0.13330090700663519738,\n",
              " -0.81458923527797907807,\n",
              " -2.6167978121471913,\n",
              " 49.931476737728694]"
            ]
          },
          "metadata": {},
          "execution_count": 389
        }
      ]
    },
    {
      "cell_type": "code",
      "source": [
        "t = np.linspace(0, 1300, 6000)"
      ],
      "metadata": {
        "id": "LAcWpzMQh5gi"
      },
      "execution_count": null,
      "outputs": []
    },
    {
      "cell_type": "code",
      "source": [
        "t1t2 = odeint(fun, initial, t)"
      ],
      "metadata": {
        "id": "qJo96G1IhzJe"
      },
      "execution_count": null,
      "outputs": []
    },
    {
      "cell_type": "code",
      "source": [
        "t1t2"
      ],
      "metadata": {
        "id": "DQ0cDgfmlgB3",
        "colab": {
          "base_uri": "https://localhost:8080/"
        },
        "outputId": "acfeaf67-c09b-454a-9da9-749e92ce4e37"
      },
      "execution_count": null,
      "outputs": [
        {
          "output_type": "execute_result",
          "data": {
            "text/plain": [
              "array([[-5.23598776e-02,  5.00000000e+01,  3.00000000e+03,\n",
              "         0.00000000e+00],\n",
              "       [-2.37208645e-02,  4.97941239e+01,  2.99958910e+03,\n",
              "         1.08057082e+01],\n",
              "       [ 4.35526956e-03,  4.95307105e+01,  2.99948531e+03,\n",
              "         2.15678606e+01],\n",
              "       ...,\n",
              "       [-8.00739264e-02,  3.17686394e+01, -5.86729345e+02,\n",
              "         4.52768233e+04],\n",
              "       [-8.00739524e-02,  3.17676985e+01, -5.87280006e+02,\n",
              "         4.52836855e+04],\n",
              "       [-8.00739784e-02,  3.17667576e+01, -5.87830650e+02,\n",
              "         4.52905475e+04]])"
            ]
          },
          "metadata": {},
          "execution_count": 392
        }
      ]
    },
    {
      "cell_type": "code",
      "source": [
        "# gamma = t1t2[0][:, 0]\n",
        "# v = t1t2[0][:, 1]\n",
        "# h = t1t2[0][:, 2]\n",
        "# x = t1t2[0][:, 3]\n",
        "gamma_maxr = t1t2[:, 0]\n",
        "v_maxr = t1t2[:, 1]\n",
        "h_maxr = t1t2[:, 2]\n",
        "x_maxr = t1t2[:, 3]"
      ],
      "metadata": {
        "id": "vqA8Hbl3iekX"
      },
      "execution_count": null,
      "outputs": []
    },
    {
      "cell_type": "code",
      "source": [
        "gamma_deg = rad2deg(gamma_maxr)"
      ],
      "metadata": {
        "id": "4KStRUbWis1M"
      },
      "execution_count": null,
      "outputs": []
    },
    {
      "cell_type": "code",
      "source": [
        "plt.plot(t, gamma_deg)"
      ],
      "metadata": {
        "id": "f7XTqDlFtVzD",
        "colab": {
          "base_uri": "https://localhost:8080/",
          "height": 282
        },
        "outputId": "03c1e6c2-024d-4503-cb5f-0d7197879f5d"
      },
      "execution_count": null,
      "outputs": [
        {
          "output_type": "execute_result",
          "data": {
            "text/plain": [
              "[<matplotlib.lines.Line2D at 0x7fdf75c736d0>]"
            ]
          },
          "metadata": {},
          "execution_count": 395
        },
        {
          "output_type": "display_data",
          "data": {
            "text/plain": [
              "<Figure size 432x288 with 1 Axes>"
            ],
            "image/png": "[encoded data removed]"
          },
          "metadata": {
            "needs_background": "light"
          }
        }
      ]
    },
    {
      "cell_type": "code",
      "source": [
        "plt.plot(t, v_maxr)"
      ],
      "metadata": {
        "id": "AJuOsqrjtXuG",
        "colab": {
          "base_uri": "https://localhost:8080/",
          "height": 282
        },
        "outputId": "5abcf0fe-fbfd-4d96-8e40-608b03be74ab"
      },
      "execution_count": null,
      "outputs": [
        {
          "output_type": "execute_result",
          "data": {
            "text/plain": [
              "[<matplotlib.lines.Line2D at 0x7fdf7547bad0>]"
            ]
          },
          "metadata": {},
          "execution_count": 396
        },
        {
          "output_type": "display_data",
          "data": {
            "text/plain": [
              "<Figure size 432x288 with 1 Axes>"
            ],
            "image/png": "[encoded data removed]"
          },
          "metadata": {
            "needs_background": "light"
          }
        }
      ]
    },
    {
      "cell_type": "code",
      "source": [
        "plt.plot(x_maxr, h_maxr)"
      ],
      "metadata": {
        "id": "pjm706S5K4Ht",
        "colab": {
          "base_uri": "https://localhost:8080/",
          "height": 282
        },
        "outputId": "0635fc54-75b9-4e3a-fc18-c986afec0ac0"
      },
      "execution_count": null,
      "outputs": [
        {
          "output_type": "execute_result",
          "data": {
            "text/plain": [
              "[<matplotlib.lines.Line2D at 0x7fdf753e96d0>]"
            ]
          },
          "metadata": {},
          "execution_count": 397
        },
        {
          "output_type": "display_data",
          "data": {
            "text/plain": [
              "<Figure size 432x288 with 1 Axes>"
            ],
            "image/png": "[encoded data removed]"
          },
          "metadata": {
            "needs_background": "light"
          }
        }
      ]
    },
    {
      "cell_type": "markdown",
      "source": [
        "# Max Endurance/ Min Descent rate"
      ],
      "metadata": {
        "id": "PdoGEsW1LcCK"
      }
    },
    {
      "cell_type": "code",
      "source": [
        "Cl_star = np.sqrt(0.036/k)\n",
        "#np.sqrt(Cd0/k)\n",
        "E_max = Cl_star/(2*0.036)\n",
        "gamma0= -3 #math.atan(-1/E_max)\n",
        "gamma0 = deg2rad(gamma0)"
      ],
      "metadata": {
        "id": "tLACNy_RLlsG"
      },
      "execution_count": null,
      "outputs": []
    },
    {
      "cell_type": "code",
      "source": [
        "#initial conditions\n",
        "CL = math.sqrt(3)*Cl_star\n",
        "v0 = 50\n",
        "h0 = 3000\n",
        "alpha = (- Cl0 + CL)/ Cla\n",
        "print(rad2deg(alpha))\n",
        "print(CL)\n",
        "CL = 1.4"
      ],
      "metadata": {
        "id": "IEliz9sRLlsI",
        "colab": {
          "base_uri": "https://localhost:8080/"
        },
        "outputId": "87b0f1c9-8548-4313-e526-e79d2e908c57"
      },
      "execution_count": null,
      "outputs": [
        {
          "output_type": "stream",
          "name": "stdout",
          "text": [
            "16.104407303827834\n",
            "1.5455147124428779\n"
          ]
        }
      ]
    },
    {
      "cell_type": "code",
      "source": [
        "def fun(y, t):\n",
        "\n",
        "  gamma, v, h, x= y\n",
        "  # print(rad2deg(gamma))\n",
        "  T = 0\n",
        "  g = 9.8\n",
        "  W = m*g\n",
        "\n",
        "  h = np.float128(h)\n",
        "  rho = 1.225*np.exp(-h/9296)\n",
        "  # print(rho)\n",
        "\n",
        "\n",
        "\n",
        "  CD = coeff_drag(CL)\n",
        "  # CL = coeff_lift(alpha)\n",
        "  q = 0.5*rho*v*v*S\n",
        "  D = (q*CD)\n",
        "  L = (q*CL)\n",
        "\n",
        "  v_dash = ( T*np.cos(alpha) - D - W*np.sin(gamma) )/m\n",
        "\n",
        "  gamma_dash = ( T*np.sin(alpha) + L - W*np.cos(gamma)) / (m*v)\n",
        "\n",
        "  x_dash = v*np.cos(gamma)\n",
        "\n",
        "  h_dash = v*np.sin(gamma)\n",
        "\n",
        "  return [gamma_dash, v_dash, h_dash, x_dash]"
      ],
      "metadata": {
        "id": "efr1_ScWLlsJ"
      },
      "execution_count": null,
      "outputs": []
    },
    {
      "cell_type": "code",
      "source": [
        "initial = [gamma0, 50, 3000, 0]"
      ],
      "metadata": {
        "id": "y61LmbpYLlsK"
      },
      "execution_count": null,
      "outputs": []
    },
    {
      "cell_type": "code",
      "source": [
        "t = np.linspace(0, 1300, 6000)"
      ],
      "metadata": {
        "id": "YydX6BzYLlsK"
      },
      "execution_count": null,
      "outputs": []
    },
    {
      "cell_type": "code",
      "source": [
        "t1t2 = odeint(fun, initial, t)"
      ],
      "metadata": {
        "id": "lC31w4F0LlsL"
      },
      "execution_count": null,
      "outputs": []
    },
    {
      "cell_type": "code",
      "source": [
        "gamma_maxe = t1t2[:, 0]\n",
        "v_maxe = t1t2[:, 1]\n",
        "h_maxe = t1t2[:, 2]\n",
        "x_maxe = t1t2[:, 3]"
      ],
      "metadata": {
        "id": "21Uat6r0MXlm"
      },
      "execution_count": null,
      "outputs": []
    },
    {
      "cell_type": "code",
      "source": [
        "gamma_deg_maxe = rad2deg(gamma_maxe)"
      ],
      "metadata": {
        "id": "Q3Kb-6iWMdkZ"
      },
      "execution_count": null,
      "outputs": []
    },
    {
      "cell_type": "code",
      "source": [
        "plt.plot(t, gamma_deg_maxe)"
      ],
      "metadata": {
        "id": "gKLmwXiiMm0Z",
        "colab": {
          "base_uri": "https://localhost:8080/",
          "height": 282
        },
        "outputId": "ccde14b1-e45a-4de9-8765-8f67d25b8098"
      },
      "execution_count": null,
      "outputs": [
        {
          "output_type": "execute_result",
          "data": {
            "text/plain": [
              "[<matplotlib.lines.Line2D at 0x7fdf7536e990>]"
            ]
          },
          "metadata": {},
          "execution_count": 406
        },
        {
          "output_type": "display_data",
          "data": {
            "text/plain": [
              "<Figure size 432x288 with 1 Axes>"
            ],
            "image/png": "[encoded data removed]"
          },
          "metadata": {
            "needs_background": "light"
          }
        }
      ]
    },
    {
      "cell_type": "code",
      "source": [
        "plt.plot(t, v_maxe)"
      ],
      "metadata": {
        "id": "er2PGRU0MrKE",
        "colab": {
          "base_uri": "https://localhost:8080/",
          "height": 282
        },
        "outputId": "10bb75b8-b333-4a27-9d59-ae30e01ef945"
      },
      "execution_count": null,
      "outputs": [
        {
          "output_type": "execute_result",
          "data": {
            "text/plain": [
              "[<matplotlib.lines.Line2D at 0x7fdf752d8410>]"
            ]
          },
          "metadata": {},
          "execution_count": 407
        },
        {
          "output_type": "display_data",
          "data": {
            "text/plain": [
              "<Figure size 432x288 with 1 Axes>"
            ],
            "image/png": "[encoded data removed]"
          },
          "metadata": {
            "needs_background": "light"
          }
        }
      ]
    },
    {
      "cell_type": "code",
      "source": [
        "plt.plot(x_maxe,h_maxe)"
      ],
      "metadata": {
        "id": "7GnVu2p-MvCX",
        "colab": {
          "base_uri": "https://localhost:8080/",
          "height": 282
        },
        "outputId": "91b7943a-47cd-4858-e779-7c765998dbeb"
      },
      "execution_count": null,
      "outputs": [
        {
          "output_type": "execute_result",
          "data": {
            "text/plain": [
              "[<matplotlib.lines.Line2D at 0x7fdf753bed50>]"
            ]
          },
          "metadata": {},
          "execution_count": 408
        },
        {
          "output_type": "display_data",
          "data": {
            "text/plain": [
              "<Figure size 432x288 with 1 Axes>"
            ],
            "image/png": "[encoded data removed]"
          },
          "metadata": {
            "needs_background": "light"
          }
        }
      ]
    },
    {
      "cell_type": "markdown",
      "source": [
        "# Max cl"
      ],
      "metadata": {
        "id": "n4U47_wrM4uQ"
      }
    },
    {
      "cell_type": "code",
      "source": [
        "Cl_star = np.sqrt(0.036/k)\n",
        "#np.sqrt(Cd0/k)\n",
        "E_max = Cl_star/(2*0.036)\n",
        "gamma0= -3 #math.atan(-1/E_max)\n",
        "gamma0 = deg2rad(gamma0)"
      ],
      "metadata": {
        "id": "RFftE2cNNJKJ"
      },
      "execution_count": null,
      "outputs": []
    },
    {
      "cell_type": "code",
      "source": [
        "print(Cl_star, math.sqrt(3)*Cl_star, k)"
      ],
      "metadata": {
        "colab": {
          "base_uri": "https://localhost:8080/"
        },
        "id": "CpVTs8JwdONT",
        "outputId": "caf16cac-8f5d-49a3-f41e-57d4061fab67"
      },
      "execution_count": null,
      "outputs": [
        {
          "output_type": "stream",
          "name": "stdout",
          "text": [
            "0.8923033352654226 1.5455147124428779 0.04521447246928845\n"
          ]
        }
      ]
    },
    {
      "cell_type": "code",
      "source": [
        "1/(pi*0.9*10.47*10.47/12.43)"
      ],
      "metadata": {
        "colab": {
          "base_uri": "https://localhost:8080/"
        },
        "id": "AOFtWZl2eN1W",
        "outputId": "53f20460-e7b8-46b1-8836-3f797e34c2c0"
      },
      "execution_count": null,
      "outputs": [
        {
          "output_type": "execute_result",
          "data": {
            "text/plain": [
              "0.04010378683124718"
            ]
          },
          "metadata": {},
          "execution_count": 411
        }
      ]
    },
    {
      "cell_type": "code",
      "source": [
        "#initial conditions\n",
        "CL = 1.5\n",
        "v0 = 50\n",
        "h0 = 3000\n",
        "alpha = (- Cl0 + CL)/ Cla\n",
        "print(rad2deg(alpha))\n",
        "print(CL)"
      ],
      "metadata": {
        "id": "PXQL5HPlNJKK",
        "colab": {
          "base_uri": "https://localhost:8080/"
        },
        "outputId": "08be02ff-8a23-4cdc-b300-a49b0769bc53"
      },
      "execution_count": null,
      "outputs": [
        {
          "output_type": "stream",
          "name": "stdout",
          "text": [
            "15.483502320797246\n",
            "1.5\n"
          ]
        }
      ]
    },
    {
      "cell_type": "code",
      "source": [
        "def fun(y, t):\n",
        "\n",
        "  gamma, v, h, x= y\n",
        "  # print(rad2deg(gamma))\n",
        "  T = 0\n",
        "  g = 9.8\n",
        "  W = m*g\n",
        "\n",
        "  h = np.float128(h)\n",
        "  rho = 1.225*np.exp(-h/9296)\n",
        "  # print(rho)\n",
        "\n",
        "\n",
        "\n",
        "  CD = coeff_drag(CL)\n",
        "  # CL = coeff_lift(alpha)\n",
        "  q = 0.5*rho*v*v*S\n",
        "  D = (q*CD)\n",
        "  L = (q*CL)\n",
        "\n",
        "  v_dash = ( T*np.cos(alpha) - D - W*np.sin(gamma) )/m\n",
        "\n",
        "  gamma_dash = ( T*np.sin(alpha) + L - W*np.cos(gamma)) / (m*v)\n",
        "\n",
        "  x_dash = v*np.cos(gamma)\n",
        "\n",
        "  h_dash = v*np.sin(gamma)\n",
        "\n",
        "  return [gamma_dash, v_dash, h_dash, x_dash]"
      ],
      "metadata": {
        "id": "vVjHiLVZNJKL"
      },
      "execution_count": null,
      "outputs": []
    },
    {
      "cell_type": "code",
      "source": [
        "initial = [gamma0, 50, 3000, 0]"
      ],
      "metadata": {
        "id": "PWmQDS2RNJKL"
      },
      "execution_count": null,
      "outputs": []
    },
    {
      "cell_type": "code",
      "source": [
        "t = np.linspace(0, 1300, 6000)"
      ],
      "metadata": {
        "id": "4fcFtPtpNJKM"
      },
      "execution_count": null,
      "outputs": []
    },
    {
      "cell_type": "code",
      "source": [
        "t1t2 = odeint(fun, initial, t)"
      ],
      "metadata": {
        "id": "zANk5p1nNJKM"
      },
      "execution_count": null,
      "outputs": []
    },
    {
      "cell_type": "code",
      "source": [
        "gamma_maxcl = t1t2[:, 0]\n",
        "v_maxcl = t1t2[:, 1]\n",
        "h_maxcl = t1t2[:, 2]\n",
        "x_maxcl = t1t2[:, 3]"
      ],
      "metadata": {
        "id": "VCkDSqxmNJKM"
      },
      "execution_count": null,
      "outputs": []
    },
    {
      "cell_type": "code",
      "source": [
        "gamma_deg_maxcl = rad2deg(gamma_maxcl)"
      ],
      "metadata": {
        "id": "j3G_y-8wNJKM"
      },
      "execution_count": null,
      "outputs": []
    },
    {
      "cell_type": "code",
      "source": [
        "plt.plot(t, gamma_deg_maxcl)"
      ],
      "metadata": {
        "id": "-P5Gn9PfNJKN",
        "colab": {
          "base_uri": "https://localhost:8080/",
          "height": 282
        },
        "outputId": "d61fa9e1-2ce1-4108-fa98-01b65b212195"
      },
      "execution_count": null,
      "outputs": [
        {
          "output_type": "execute_result",
          "data": {
            "text/plain": [
              "[<matplotlib.lines.Line2D at 0x7fdf751ccf50>]"
            ]
          },
          "metadata": {},
          "execution_count": 419
        },
        {
          "output_type": "display_data",
          "data": {
            "text/plain": [
              "<Figure size 432x288 with 1 Axes>"
            ],
            "image/png": "[encoded data removed]"
          },
          "metadata": {
            "needs_background": "light"
          }
        }
      ]
    },
    {
      "cell_type": "code",
      "source": [
        "plt.plot(t, v_maxcl)"
      ],
      "metadata": {
        "id": "0HUN1sZlNJKN",
        "colab": {
          "base_uri": "https://localhost:8080/",
          "height": 282
        },
        "outputId": "97dac31c-cac2-4815-c16c-a0afe394d44f"
      },
      "execution_count": null,
      "outputs": [
        {
          "output_type": "execute_result",
          "data": {
            "text/plain": [
              "[<matplotlib.lines.Line2D at 0x7fdf751b6990>]"
            ]
          },
          "metadata": {},
          "execution_count": 420
        },
        {
          "output_type": "display_data",
          "data": {
            "text/plain": [
              "<Figure size 432x288 with 1 Axes>"
            ],
            "image/png": "[encoded data removed]"
          },
          "metadata": {
            "needs_background": "light"
          }
        }
      ]
    },
    {
      "cell_type": "code",
      "source": [
        "plt.plot(x_maxcl,h_maxcl)"
      ],
      "metadata": {
        "id": "XvalNCaENJKN",
        "colab": {
          "base_uri": "https://localhost:8080/",
          "height": 282
        },
        "outputId": "ef81773f-7d44-4288-8901-a81f687e6eb2"
      },
      "execution_count": null,
      "outputs": [
        {
          "output_type": "execute_result",
          "data": {
            "text/plain": [
              "[<matplotlib.lines.Line2D at 0x7fdf7513b050>]"
            ]
          },
          "metadata": {},
          "execution_count": 421
        },
        {
          "output_type": "display_data",
          "data": {
            "text/plain": [
              "<Figure size 432x288 with 1 Axes>"
            ],
            "image/png": "[encoded data removed]"
          },
          "metadata": {
            "needs_background": "light"
          }
        }
      ]
    },
    {
      "cell_type": "markdown",
      "source": [
        "#All plots"
      ],
      "metadata": {
        "id": "RzTAFI48OJjQ"
      }
    },
    {
      "cell_type": "code",
      "source": [
        "h_maxr.size"
      ],
      "metadata": {
        "colab": {
          "base_uri": "https://localhost:8080/"
        },
        "id": "o2XXcBCZqAhv",
        "outputId": "85a0dc61-77b9-41b6-87e2-c7c94dd52ed4"
      },
      "execution_count": null,
      "outputs": [
        {
          "output_type": "execute_result",
          "data": {
            "text/plain": [
              "6000"
            ]
          },
          "metadata": {},
          "execution_count": 422
        }
      ]
    },
    {
      "cell_type": "code",
      "source": [
        "def f(arr):\n",
        "  c = 0\n",
        "  for i in arr:\n",
        "    if i>0:\n",
        "      c = c+1\n",
        "\n",
        "  print(arr[c-1], arr[c+1], arr[c])\n",
        "  return c"
      ],
      "metadata": {
        "id": "XfAorJ3pquxW"
      },
      "execution_count": null,
      "outputs": []
    },
    {
      "cell_type": "code",
      "source": [
        "cr = f(h_maxr)"
      ],
      "metadata": {
        "colab": {
          "base_uri": "https://localhost:8080/"
        },
        "id": "81dr6J8guq8F",
        "outputId": "7de27e16-a09a-4218-fe04-7af60d9c29d5"
      },
      "execution_count": null,
      "outputs": [
        {
          "output_type": "stream",
          "name": "stdout",
          "text": [
            "0.5495754603737453 -0.5866663052483503 -0.018554001666387876\n"
          ]
        }
      ]
    },
    {
      "cell_type": "code",
      "source": [
        "ce = f(h_maxe)"
      ],
      "metadata": {
        "colab": {
          "base_uri": "https://localhost:8080/"
        },
        "id": "GO510diLre4H",
        "outputId": "1ae071b9-aa63-4f5e-d258-e66edb7bb7e2"
      },
      "execution_count": null,
      "outputs": [
        {
          "output_type": "stream",
          "name": "stdout",
          "text": [
            "0.42854788139031896 -0.5732185530845246 -0.07234203303299802\n"
          ]
        }
      ]
    },
    {
      "cell_type": "code",
      "source": [
        "ccl = f(h_maxcl)"
      ],
      "metadata": {
        "colab": {
          "base_uri": "https://localhost:8080/"
        },
        "id": "CAMFJ-lyvIr6",
        "outputId": "fb7cefd2-6662-47e0-cc6e-23f20d6887bc"
      },
      "execution_count": null,
      "outputs": [
        {
          "output_type": "stream",
          "name": "stdout",
          "text": [
            "0.22323933197309742 -0.7749414052156283 -0.2758576892640505\n"
          ]
        }
      ]
    },
    {
      "cell_type": "code",
      "source": [
        "def h0(h,r, c):\n",
        "  a = h.copy()\n",
        "  b = r.copy()\n",
        "  b = b[:c]\n",
        "  a = a[:c]\n",
        "  return a, b"
      ],
      "metadata": {
        "id": "bka55JX2vPQq"
      },
      "execution_count": null,
      "outputs": []
    },
    {
      "cell_type": "code",
      "source": [
        "hmr, xmr = h0(h_maxr, x_maxr, cr)"
      ],
      "metadata": {
        "id": "byUT538Jvs09"
      },
      "execution_count": null,
      "outputs": []
    },
    {
      "cell_type": "code",
      "source": [
        "hmr.size, xmr.size"
      ],
      "metadata": {
        "colab": {
          "base_uri": "https://localhost:8080/"
        },
        "id": "4BV9FQY-vzyX",
        "outputId": "e06a3759-c66d-4846-edd4-2f6fac3a5121"
      },
      "execution_count": null,
      "outputs": [
        {
          "output_type": "execute_result",
          "data": {
            "text/plain": [
              "(4948, 4948)"
            ]
          },
          "metadata": {},
          "execution_count": 429
        }
      ]
    },
    {
      "cell_type": "code",
      "source": [
        "hmcl, xmcl = h0(h_maxcl, x_maxcl, ccl)"
      ],
      "metadata": {
        "id": "3cQsgh97wBFZ"
      },
      "execution_count": null,
      "outputs": []
    },
    {
      "cell_type": "code",
      "source": [
        "hme, xme = h0(h_maxe, x_maxe, ce)"
      ],
      "metadata": {
        "id": "C2ZK0CNKxNv0"
      },
      "execution_count": null,
      "outputs": []
    },
    {
      "cell_type": "code",
      "source": [
        "hme[-1]"
      ],
      "metadata": {
        "colab": {
          "base_uri": "https://localhost:8080/"
        },
        "id": "pxpwdASXxaKU",
        "outputId": "3b3aa720-5fa5-4f7e-862a-59878f4a94dc"
      },
      "execution_count": null,
      "outputs": [
        {
          "output_type": "execute_result",
          "data": {
            "text/plain": [
              "0.42854788139031896"
            ]
          },
          "metadata": {},
          "execution_count": 432
        }
      ]
    },
    {
      "cell_type": "code",
      "source": [
        "# plt.figure(figsize = (10,7))\n",
        "plt.title(\"Height vs Range\")\n",
        "plt.xlabel(\"Range\")\n",
        "plt.ylabel(\"Height\")\n",
        "plt.plot(xmcl,hmcl)\n",
        "plt.plot(xme,hme)\n",
        "plt.plot(xmr, hmr)\n",
        "# plt.text(xmcl[-1],0, format(xmcl[-1],\".2f\"), )\n",
        "# plt.text(xme[-1],0, format(xme[-1],\".2f\"), wrap = 1)\n",
        "# plt.text(xmr[-1],0, format(xmr[-1],\".2f\"))\n",
        "\n",
        "plt.legend(['Max CL', 'Min Sink Rate', 'Min Glide Angle'])"
      ],
      "metadata": {
        "id": "8eUHIXKzNpm0",
        "colab": {
          "base_uri": "https://localhost:8080/",
          "height": 312
        },
        "outputId": "58fb0a78-bc43-45f8-be81-37cdf7d57ded"
      },
      "execution_count": null,
      "outputs": [
        {
          "output_type": "execute_result",
          "data": {
            "text/plain": [
              "<matplotlib.legend.Legend at 0x7fdf762d2450>"
            ]
          },
          "metadata": {},
          "execution_count": 433
        },
        {
          "output_type": "display_data",
          "data": {
            "text/plain": [
              "<Figure size 432x288 with 1 Axes>"
            ],
            "image/png": "[encoded data removed]"
          },
          "metadata": {
            "needs_background": "light"
          }
        }
      ]
    },
    {
      "cell_type": "code",
      "source": [
        "xmcl[-1], xme[-1], xmr[-1]"
      ],
      "metadata": {
        "colab": {
          "base_uri": "https://localhost:8080/"
        },
        "id": "VZt0l5yLck_Z",
        "outputId": "dcb2c424-2be2-452e-e280-1c39cfe41288"
      },
      "execution_count": null,
      "outputs": [
        {
          "output_type": "execute_result",
          "data": {
            "text/plain": [
              "(33339.97647543584, 34405.32205040255, 37956.99524010785)"
            ]
          },
          "metadata": {},
          "execution_count": 434
        }
      ]
    },
    {
      "cell_type": "code",
      "source": [
        "tr = cr*1300/6000\n",
        "te = ce*1300/6000\n",
        "tcl = ccl*1300/6000"
      ],
      "metadata": {
        "id": "1KnZZx1_yNiZ"
      },
      "execution_count": null,
      "outputs": []
    },
    {
      "cell_type": "code",
      "source": [
        "tr, te, tcl"
      ],
      "metadata": {
        "colab": {
          "base_uri": "https://localhost:8080/"
        },
        "id": "kMOZmpm0yXYi",
        "outputId": "27e0fe62-5e97-400c-a195-df033be42300"
      },
      "execution_count": null,
      "outputs": [
        {
          "output_type": "execute_result",
          "data": {
            "text/plain": [
              "(1072.0666666666666, 1220.05, 1224.6)"
            ]
          },
          "metadata": {},
          "execution_count": 436
        }
      ]
    },
    {
      "cell_type": "code",
      "source": [
        "te = np.round(te)\n",
        "tcl = np.round(tcl)\n",
        "tr = np.round(tr)"
      ],
      "metadata": {
        "id": "z5jOki-XyuYq"
      },
      "execution_count": null,
      "outputs": []
    },
    {
      "cell_type": "code",
      "source": [
        "ite = te*6000/1300\n",
        "itcl = tcl*6000/1300\n",
        "itr = tr*6000/1300"
      ],
      "metadata": {
        "id": "p522MJNrzzxI"
      },
      "execution_count": null,
      "outputs": []
    },
    {
      "cell_type": "code",
      "source": [
        "ite = np.round(ite)\n",
        "itcl = np.round(itcl)\n",
        "itr = np.round(itr)"
      ],
      "metadata": {
        "id": "VBI65tpA0qbG"
      },
      "execution_count": null,
      "outputs": []
    },
    {
      "cell_type": "code",
      "source": [
        "itcl"
      ],
      "metadata": {
        "colab": {
          "base_uri": "https://localhost:8080/"
        },
        "id": "xSSVAPQy1eqU",
        "outputId": "db60031d-4580-40e1-b0cb-ba1dc6f5d4e2"
      },
      "execution_count": null,
      "outputs": [
        {
          "output_type": "execute_result",
          "data": {
            "text/plain": [
              "5654.0"
            ]
          },
          "metadata": {},
          "execution_count": 440
        }
      ]
    },
    {
      "cell_type": "code",
      "source": [
        "def v0(v, t, c):\n",
        "  vn = v.copy()\n",
        "  vn = vn[:c]\n",
        "  tn = t.copy()\n",
        "  tn = tn[:c]\n",
        "  return vn, tn"
      ],
      "metadata": {
        "id": "aF4nlSWe065o"
      },
      "execution_count": null,
      "outputs": []
    },
    {
      "cell_type": "code",
      "source": [
        "vcl, tcl = v0(v_maxcl, t, int(itcl))\n",
        "vr, tr = v0(v_maxr, t, int(itr))\n",
        "ve, te = v0(v_maxe, t, int(ite))"
      ],
      "metadata": {
        "id": "J3nr634p1NAP"
      },
      "execution_count": null,
      "outputs": []
    },
    {
      "cell_type": "code",
      "source": [
        "plt.title(\"Velocity vs Time\")\n",
        "plt.xlabel(\"Time\")\n",
        "plt.ylabel(\"Velocity\")\n",
        "plt.plot(tcl, vcl)\n",
        "plt.plot(te, ve)\n",
        "plt.plot(tr, vr)\n",
        "plt.legend(['Max CL', 'Min Sink Rate', 'Min Glide Angle'])"
      ],
      "metadata": {
        "id": "lwo_47hKOPYs",
        "colab": {
          "base_uri": "https://localhost:8080/",
          "height": 312
        },
        "outputId": "58fe6c8b-4004-4c0c-ee21-ee1170555114"
      },
      "execution_count": null,
      "outputs": [
        {
          "output_type": "execute_result",
          "data": {
            "text/plain": [
              "<matplotlib.legend.Legend at 0x7fdf750b4d10>"
            ]
          },
          "metadata": {},
          "execution_count": 443
        },
        {
          "output_type": "display_data",
          "data": {
            "text/plain": [
              "<Figure size 432x288 with 1 Axes>"
            ],
            "image/png": "[encoded data removed]"
          },
          "metadata": {
            "needs_background": "light"
          }
        }
      ]
    },
    {
      "cell_type": "code",
      "source": [
        "plt.title(\"Flight path angle vs Time\")\n",
        "plt.xlabel(\"Time\")\n",
        "plt.ylabel(\"Flight path angle\")\n",
        "plt.ylim(-10, 5)\n",
        "plt.plot(tcl, gamma_deg_maxcl[:int(itcl)])\n",
        "plt.plot(te, gamma_deg_maxe[:int(ite)])\n",
        "plt.plot(tr, gamma_deg[:int(itr)])\n",
        "plt.legend(['Max CL', 'Min Sink Rate', 'Min Glide Angle'])"
      ],
      "metadata": {
        "id": "xtlf_2uyORS-",
        "colab": {
          "base_uri": "https://localhost:8080/",
          "height": 312
        },
        "outputId": "fd7edea5-1b77-4aa9-9824-a3e5c7d99889"
      },
      "execution_count": null,
      "outputs": [
        {
          "output_type": "execute_result",
          "data": {
            "text/plain": [
              "<matplotlib.legend.Legend at 0x7fdf74fc5850>"
            ]
          },
          "metadata": {},
          "execution_count": 444
        },
        {
          "output_type": "display_data",
          "data": {
            "text/plain": [
              "<Figure size 432x288 with 1 Axes>"
            ],
            "image/png": "[encoded data removed]"
          },
          "metadata": {
            "needs_background": "light"
          }
        }
      ]
    },
    {
      "cell_type": "code",
      "source": [
        "tcl[-1], tr[-1], te[-1]"
      ],
      "metadata": {
        "colab": {
          "base_uri": "https://localhost:8080/"
        },
        "id": "t9o1o_Fug1iL",
        "outputId": "ac41c443-b789-4b0c-90e9-b456d28aa427"
      },
      "execution_count": null,
      "outputs": [
        {
          "output_type": "execute_result",
          "data": {
            "text/plain": [
              "(1225.0208368061344, 1072.028671445241, 1220.0366727787964)"
            ]
          },
          "metadata": {},
          "execution_count": 445
        }
      ]
    },
    {
      "cell_type": "code",
      "source": [
        "#check of flight path angle\n",
        "print(gamma_deg_maxcl[int(itcl)])\n",
        "print(gamma_deg_maxe[int(ite)])\n",
        "gamma_deg[int(itr)]"
      ],
      "metadata": {
        "colab": {
          "base_uri": "https://localhost:8080/"
        },
        "id": "My6dw4zRauO9",
        "outputId": "def0f2af-1aa7-44ce-81cf-3e7bf2c644a8"
      },
      "execution_count": null,
      "outputs": [
        {
          "output_type": "stream",
          "name": "stdout",
          "text": [
            "-5.228056082076355\n",
            "-5.067805345498608\n"
          ]
        },
        {
          "output_type": "execute_result",
          "data": {
            "text/plain": [
              "-4.586258820064909"
            ]
          },
          "metadata": {},
          "execution_count": 446
        }
      ]
    },
    {
      "cell_type": "code",
      "source": [
        "e1 = 1.5/coeff_drag(1.5) #maxcl\n",
        "print(rad2deg(math.atan(-1/e1)))\n",
        "\n",
        "e3 = math.sqrt(3)*Cl_star/coeff_drag(math.sqrt(3)*Cl_star) #min sink\n",
        "print(rad2deg(math.atan(-1/e3)))\n",
        "\n",
        "e2 = Cl_star/coeff_drag(Cl_star) #min glide\n",
        "print(rad2deg(math.atan(-1/e2)))"
      ],
      "metadata": {
        "colab": {
          "base_uri": "https://localhost:8080/"
        },
        "id": "o4LsOfTmZ0Fq",
        "outputId": "68a56bc1-e599-424f-8448-c60123eb9e4b"
      },
      "execution_count": null,
      "outputs": [
        {
          "output_type": "stream",
          "name": "stdout",
          "text": [
            "-5.246285174950179\n",
            "-5.32304275079167\n",
            "-4.613204577163879\n"
          ]
        }
      ]
    },
    {
      "cell_type": "code",
      "source": [
        "#max range using analytic\n",
        "Rmax_cl = e1*H\n",
        "print(Rmax_cl)\n",
        "Rmax_end = e3*H\n",
        "print(Rmax_end)\n",
        "Rmax = e2*H\n",
        "print(Rmax)"
      ],
      "metadata": {
        "colab": {
          "base_uri": "https://localhost:8080/"
        },
        "id": "YSVwz9d_cv9b",
        "outputId": "6ac525a1-a154-4d85-9634-4225c6df349b"
      },
      "execution_count": null,
      "outputs": [
        {
          "output_type": "stream",
          "name": "stdout",
          "text": [
            "32672.012341581612\n",
            "32198.22317589329\n",
            "37179.30563605928\n"
          ]
        }
      ]
    },
    {
      "cell_type": "code",
      "source": [
        "plt.title(\"Flight path angle vs Time\")\n",
        "plt.xlabel(\"Time\")\n",
        "plt.ylabel(\"Flight path angle\")\n",
        "# plt.ylim(-10, 5)\n",
        "plt.plot(tcl, gamma_deg_maxcl[:int(itcl)])\n",
        "plt.plot(te, gamma_deg_maxe[:int(ite)])\n",
        "plt.plot(tr, gamma_deg[:int(itr)])\n",
        "plt.legend(['Max CL', 'Min Sink Rate', 'Min Glide Angle'])"
      ],
      "metadata": {
        "id": "eBp3wL8yn1S8",
        "colab": {
          "base_uri": "https://localhost:8080/",
          "height": 312
        },
        "outputId": "4f46ded2-8cee-4829-b42a-2ec870c85ac1"
      },
      "execution_count": null,
      "outputs": [
        {
          "output_type": "execute_result",
          "data": {
            "text/plain": [
              "<matplotlib.legend.Legend at 0x7fdf74f1f1d0>"
            ]
          },
          "metadata": {},
          "execution_count": 449
        },
        {
          "output_type": "display_data",
          "data": {
            "text/plain": [
              "<Figure size 432x288 with 1 Axes>"
            ],
            "image/png": "[encoded data removed]"
          },
          "metadata": {
            "needs_background": "light"
          }
        }
      ]
    },
    {
      "cell_type": "code",
      "source": [
        "def CL32(cl):\n",
        "  return cl**(1.5)/coeff_drag(cl)"
      ],
      "metadata": {
        "id": "WhlnMKhvTJcw"
      },
      "execution_count": null,
      "outputs": []
    },
    {
      "cell_type": "code",
      "source": [
        "#max range\n",
        "print(CL32(Cl_star))"
      ],
      "metadata": {
        "colab": {
          "base_uri": "https://localhost:8080/"
        },
        "id": "jo40Z2opfnj-",
        "outputId": "d5a3bffd-0e98-4d17-d7cb-c9658c6fb907"
      },
      "execution_count": null,
      "outputs": [
        {
          "output_type": "stream",
          "name": "stdout",
          "text": [
            "11.706748221295033\n"
          ]
        }
      ]
    },
    {
      "cell_type": "code",
      "source": [
        "#max end\n",
        "print(CL32(math.sqrt(3)*Cl_star))"
      ],
      "metadata": {
        "colab": {
          "base_uri": "https://localhost:8080/"
        },
        "id": "WfwTZH8jfuFc",
        "outputId": "4b8fd357-6789-44c0-d627-4eb784db8e6e"
      },
      "execution_count": null,
      "outputs": [
        {
          "output_type": "stream",
          "name": "stdout",
          "text": [
            "13.342807592217408\n"
          ]
        }
      ]
    },
    {
      "cell_type": "code",
      "source": [
        "#max cl\n",
        "print(CL32(1.5))"
      ],
      "metadata": {
        "colab": {
          "base_uri": "https://localhost:8080/"
        },
        "id": "IwuHSzv8f0KR",
        "outputId": "ae9a792e-8606-4c31-f57d-a97333014a74"
      },
      "execution_count": null,
      "outputs": [
        {
          "output_type": "stream",
          "name": "stdout",
          "text": [
            "13.338293184464927\n"
          ]
        }
      ]
    },
    {
      "cell_type": "code",
      "source": [
        "plt.plot(cl, E(cl))\n",
        "plt.title(\"E vs Cl\")\n",
        "plt.xlabel(\"Coefficient of lift\")\n",
        "plt.ylabel(\"E\")\n",
        "plt.plot(Cl_star, E(Cl_star),'o' )\n",
        "plt.plot(1.5, E(1.5), 'o')\n",
        "plt.plot(1.4, E(1.4), 'o')\n",
        "plt.legend([\"Plot\", \"Min glide angle\", \"Max Cl\", \"Min sink rate\"])"
      ],
      "metadata": {
        "id": "ke3wi7vPf5e7",
        "colab": {
          "base_uri": "https://localhost:8080/",
          "height": 312
        },
        "outputId": "3198229f-0893-4ffe-9e76-d6ef941f03ad"
      },
      "execution_count": null,
      "outputs": [
        {
          "output_type": "execute_result",
          "data": {
            "text/plain": [
              "<matplotlib.legend.Legend at 0x7fdf74c52690>"
            ]
          },
          "metadata": {},
          "execution_count": 460
        },
        {
          "output_type": "display_data",
          "data": {
            "text/plain": [
              "<Figure size 432x288 with 1 Axes>"
            ],
            "image/png": "[encoded data removed]"
          },
          "metadata": {
            "needs_background": "light"
          }
        }
      ]
    },
    {
      "cell_type": "code",
      "source": [
        "def Cl32(Cl):\n",
        "  return Cl**1.5 / coeff_drag(Cl)"
      ],
      "metadata": {
        "id": "5fkkhJocYRQf"
      },
      "execution_count": null,
      "outputs": []
    },
    {
      "cell_type": "code",
      "source": [],
      "metadata": {
        "id": "DU4ZHNiFYnJL"
      },
      "execution_count": null,
      "outputs": []
    },
    {
      "cell_type": "code",
      "source": [
        "plt.plot(cl, Cl32(cl))\n",
        "plt.title(\"Cl^1.5/Cd vs Cl\")\n",
        "plt.xlabel(\"Coefficient of lift\")\n",
        "plt.ylabel(\"Cl^1.5/Cd\")\n",
        "plt.plot(Cl_star, Cl32(Cl_star),'o' )\n",
        "plt.plot(1.5, Cl32(1.5), 'o')\n",
        "plt.plot(1.4, Cl32(1.4), 'o')\n",
        "plt.legend([\"Plot\", \"Min glide angle\", \"Max Cl\", \"Min sink rate\"])"
      ],
      "metadata": {
        "colab": {
          "base_uri": "https://localhost:8080/",
          "height": 312
        },
        "id": "H3PoKn4tTZ-Z",
        "outputId": "11c0aa86-c9a6-4a0c-d1f2-fac62e540839"
      },
      "execution_count": null,
      "outputs": [
        {
          "output_type": "execute_result",
          "data": {
            "text/plain": [
              "<matplotlib.legend.Legend at 0x7fdf74d397d0>"
            ]
          },
          "metadata": {},
          "execution_count": 459
        },
        {
          "output_type": "display_data",
          "data": {
            "text/plain": [
              "<Figure size 432x288 with 1 Axes>"
            ],
            "image/png": "[encoded data removed]"
          },
          "metadata": {
            "needs_background": "light"
          }
        }
      ]
    },
    {
      "cell_type": "code",
      "source": [
        "H"
      ],
      "metadata": {
        "colab": {
          "base_uri": "https://localhost:8080/"
        },
        "id": "wPRhlmgx0Qjz",
        "outputId": "86d970a9-f428-4477-cc06-849f447deddd"
      },
      "execution_count": null,
      "outputs": [
        {
          "output_type": "execute_result",
          "data": {
            "text/plain": [
              "3000"
            ]
          },
          "metadata": {},
          "execution_count": 471
        }
      ]
    },
    {
      "cell_type": "code",
      "source": [
        "H*E(Cl_star)"
      ],
      "metadata": {
        "id": "IubPqKzYY03v",
        "colab": {
          "base_uri": "https://localhost:8080/"
        },
        "outputId": "5dcfca42-131d-4141-8daa-8ef5dff3a4f0"
      },
      "execution_count": null,
      "outputs": [
        {
          "output_type": "execute_result",
          "data": {
            "text/plain": [
              "37179.30563605928"
            ]
          },
          "metadata": {},
          "execution_count": 463
        }
      ]
    },
    {
      "cell_type": "code",
      "source": [
        "cl32 = Cl32(1.5)"
      ],
      "metadata": {
        "id": "Q8w8P1KrynJi"
      },
      "execution_count": null,
      "outputs": []
    },
    {
      "cell_type": "code",
      "source": [
        "np.sqrt(1.225*S/(2*m*9.8)) * cl32 * 2 * 9296 * (1 - np.exp(-H/(2*9296)))"
      ],
      "metadata": {
        "colab": {
          "base_uri": "https://localhost:8080/"
        },
        "id": "kC1bI8WZzW0u",
        "outputId": "68ea52aa-5dc2-455e-c3ea-9a7f2e37107a"
      },
      "execution_count": null,
      "outputs": [
        {
          "output_type": "execute_result",
          "data": {
            "text/plain": [
              "1191.231999177739"
            ]
          },
          "metadata": {},
          "execution_count": 473
        }
      ]
    },
    {
      "cell_type": "code",
      "source": [],
      "metadata": {
        "colab": {
          "base_uri": "https://localhost:8080/"
        },
        "id": "Q3NJ7nj5znWC",
        "outputId": "6154947c-e6e8-4bcb-bc79-51a49e4bf0e8"
      },
      "execution_count": null,
      "outputs": [
        {
          "output_type": "execute_result",
          "data": {
            "text/plain": [
              "750"
            ]
          },
          "metadata": {},
          "execution_count": 468
        }
      ]
    },
    {
      "cell_type": "code",
      "source": [],
      "metadata": {
        "id": "tjOnG7BWzp8z"
      },
      "execution_count": null,
      "outputs": []
    }
  ]
}